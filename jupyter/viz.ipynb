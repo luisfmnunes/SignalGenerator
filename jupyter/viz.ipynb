{
 "cells": [
  {
   "cell_type": "code",
   "execution_count": 64,
   "metadata": {},
   "outputs": [],
   "source": [
    "import pandas as pd\n",
    "import numpy as np\n",
    "import plotly.express as px\n",
    "\n",
    "from pathlib import Path"
   ]
  },
  {
   "cell_type": "code",
   "execution_count": 65,
   "metadata": {},
   "outputs": [
    {
     "data": {
      "text/plain": [
       "(PosixPath('/home/melo/Documents/SignalGenerator'),\n",
       " PosixPath('/home/melo/Documents/SignalGenerator/mTIQSignal.qid'),\n",
       " PosixPath('/home/melo/Documents/SignalGenerator/mTIQSignal.qim'))"
      ]
     },
     "execution_count": 65,
     "metadata": {},
     "output_type": "execute_result"
    }
   ],
   "source": [
    "root = Path().absolute().parent\n",
    "data_file = root / \"mTIQSignal.qid\"\n",
    "metadata_file = root / \"mTIQSignal.qim\"\n",
    "\n",
    "root, data_file, metadata_file"
   ]
  },
  {
   "cell_type": "code",
   "execution_count": 66,
   "metadata": {},
   "outputs": [
    {
     "name": "stdout",
     "output_type": "stream",
     "text": [
      "version = 1.1\n",
      "dataFile = mTIQSignal.qid\n",
      "dateCreated = 2025-04-07-14:34:42\n",
      "description = Marked Text IQ Signal\n",
      "segmentID = 1\n",
      "numberOfSamples = 200\n",
      "samplingRate = 1000000\n",
      "markerBits = 8\n",
      "signalType = MarkedIQTextSignal\n",
      "\n"
     ]
    }
   ],
   "source": [
    "with open(metadata_file, \"r\") as f:\n",
    "    metadata = f.read()\n",
    "    print(metadata)"
   ]
  },
  {
   "cell_type": "code",
   "execution_count": 67,
   "metadata": {},
   "outputs": [
    {
     "name": "stdout",
     "output_type": "stream",
     "text": [
      "b'\\x01\\xff\\x7f\\x00\\x80\\x00\\xff\\x7f\\x08\\x90\\x00\\xff\\x7f\\x1f\\xa6\\x00\\xff\\x7f\\x04\\xc1\\x00\\xff\\x7f?\\xdf\\x00\\xff\\x7f$\\xff\\x00\\xff\\x7f\\xf5\\x1e\\x00\\xff\\x7f\\r=\\x00\\xff\\x7f\\xf6W\\x00\\xff\\x7f\\x8dn\\x00\\xff\\x7f\\xff\\x7f\\x00\\x00f\\xff\\x7f\\x00\\x85H\\xff\\x7f\\x00\\xc5(\\xff\\x7f\\x00\\x11\\x08\\xff\\x7f\\x00\\xdb\\xe7\\xff\\x7f\\x00\\x9f\\xc9\\xff\\x7f\\x00\\xd5\\xae\\xff\\x7f\\x00\\xdd\\x98\\xff\\x7f\\x00\\xe8\\x88\\xae\\x7f'\n"
     ]
    }
   ],
   "source": [
    "with open(data_file, \"rb\") as f:\n",
    "    data = f.read()\n",
    "    print(data[:100])  # Print the first 100 bytes of the data\n"
   ]
  },
  {
   "cell_type": "code",
   "execution_count": 68,
   "metadata": {},
   "outputs": [],
   "source": [
    "markers = data[::5]\n",
    "iValues = bytes([data[i] for i in range(len(data)) if i % 5 == 1 or i % 5 == 2])\n",
    "qValues = bytes([data[i] for i in range(len(data)) if i % 5 == 3 or i % 5 == 4])\n",
    "\n",
    "# Convert bytes to integers\n",
    "markers = np.frombuffer(markers, dtype=np.uint8)\n",
    "iValues = np.frombuffer(iValues, dtype=np.int16).astype(np.float32)\n",
    "qValues = np.frombuffer(qValues, dtype=np.int16).astype(np.float32)\n",
    "\n",
    "df = pd.DataFrame({\n",
    "    \"markers\": markers,\n",
    "    \"I\": iValues,\n",
    "    \"Q\": qValues,\n",
    "})\n",
    "\n",
    "df[\"sample\"] = df.index\n",
    "df[\"IQ\"] = df[\"I\"] + df[\"Q\"]"
   ]
  },
  {
   "cell_type": "code",
   "execution_count": 69,
   "metadata": {},
   "outputs": [
    {
     "data": {
      "text/html": [
       "<div>\n",
       "<style scoped>\n",
       "    .dataframe tbody tr th:only-of-type {\n",
       "        vertical-align: middle;\n",
       "    }\n",
       "\n",
       "    .dataframe tbody tr th {\n",
       "        vertical-align: top;\n",
       "    }\n",
       "\n",
       "    .dataframe thead th {\n",
       "        text-align: right;\n",
       "    }\n",
       "</style>\n",
       "<table border=\"1\" class=\"dataframe\">\n",
       "  <thead>\n",
       "    <tr style=\"text-align: right;\">\n",
       "      <th></th>\n",
       "      <th>markers</th>\n",
       "      <th>I</th>\n",
       "      <th>Q</th>\n",
       "      <th>sample</th>\n",
       "      <th>IQ</th>\n",
       "    </tr>\n",
       "  </thead>\n",
       "  <tbody>\n",
       "    <tr>\n",
       "      <th>0</th>\n",
       "      <td>1</td>\n",
       "      <td>32767.0</td>\n",
       "      <td>-32768.0</td>\n",
       "      <td>0</td>\n",
       "      <td>-1.0</td>\n",
       "    </tr>\n",
       "    <tr>\n",
       "      <th>1</th>\n",
       "      <td>0</td>\n",
       "      <td>32767.0</td>\n",
       "      <td>-28664.0</td>\n",
       "      <td>1</td>\n",
       "      <td>4103.0</td>\n",
       "    </tr>\n",
       "    <tr>\n",
       "      <th>2</th>\n",
       "      <td>0</td>\n",
       "      <td>32767.0</td>\n",
       "      <td>-23009.0</td>\n",
       "      <td>2</td>\n",
       "      <td>9758.0</td>\n",
       "    </tr>\n",
       "    <tr>\n",
       "      <th>3</th>\n",
       "      <td>0</td>\n",
       "      <td>32767.0</td>\n",
       "      <td>-16124.0</td>\n",
       "      <td>3</td>\n",
       "      <td>16643.0</td>\n",
       "    </tr>\n",
       "    <tr>\n",
       "      <th>4</th>\n",
       "      <td>0</td>\n",
       "      <td>32767.0</td>\n",
       "      <td>-8385.0</td>\n",
       "      <td>4</td>\n",
       "      <td>24382.0</td>\n",
       "    </tr>\n",
       "  </tbody>\n",
       "</table>\n",
       "</div>"
      ],
      "text/plain": [
       "   markers        I        Q  sample       IQ\n",
       "0        1  32767.0 -32768.0       0     -1.0\n",
       "1        0  32767.0 -28664.0       1   4103.0\n",
       "2        0  32767.0 -23009.0       2   9758.0\n",
       "3        0  32767.0 -16124.0       3  16643.0\n",
       "4        0  32767.0  -8385.0       4  24382.0"
      ]
     },
     "execution_count": 69,
     "metadata": {},
     "output_type": "execute_result"
    }
   ],
   "source": [
    "df.head()"
   ]
  },
  {
   "cell_type": "code",
   "execution_count": null,
   "metadata": {},
   "outputs": [
    {
     "data": {
      "application/vnd.plotly.v1+json": {
       "config": {
        "plotlyServerURL": "https://plot.ly"
       },
       "data": [
        {
         "hovertemplate": "variable=I<br>sample=%{x}<br>value=%{y}<extra></extra>",
         "legendgroup": "I",
         "marker": {
          "color": "#636efa",
          "symbol": "circle"
         },
         "mode": "markers",
         "name": "I",
         "orientation": "v",
         "showlegend": true,
         "type": "scatter",
         "x": {
          "bdata": "AAABAAIAAwAEAAUABgAHAAgACQAKAAsADAANAA4ADwAQABEAEgATABQAFQAWABcAGAAZABoAGwAcAB0AHgAfACAAIQAiACMAJAAlACYAJwAoACkAKgArACwALQAuAC8AMAAxADIAMwA0ADUANgA3ADgAOQA6ADsAPAA9AD4APwBAAEEAQgBDAEQARQBGAEcASABJAEoASwBMAE0ATgBPAFAAUQBSAFMAVABVAFYAVwBYAFkAWgBbAFwAXQBeAF8AYABhAGIAYwBkAGUAZgBnAGgAaQBqAGsAbABtAG4AbwBwAHEAcgBzAHQAdQB2AHcAeAB5AHoAewB8AH0AfgB/AIAAgQCCAIMAhACFAIYAhwCIAIkAigCLAIwAjQCOAI8AkACRAJIAkwCUAJUAlgCXAJgAmQCaAJsAnACdAJ4AnwCgAKEAogCjAKQApQCmAKcAqACpAKoAqwCsAK0ArgCvALAAsQCyALMAtAC1ALYAtwC4ALkAugC7ALwAvQC+AL8AwADBAMIAwwDEAMUAxgDHAA==",
          "dtype": "i2"
         },
         "xaxis": "x",
         "y": {
          "bdata": "AP7/RgD+/0YA/v9GAP7/RgD+/0YA/v9GAP7/RgD+/0YA/v9GAP7/RgD+/0YAAMxGAAqRRgAUI0YAEAFFACjBxQCEWcYAVqLGAEbOxgAw7sYAAADHAAAAxwAU9sYAgNnGADquxgDsa8YAcMzFAJA6RQDAS0YAyLRGAP7/RgD+/0YA/v9GAP7/RgD+/0YA/v9GAP7/RgD+/0YA/v9GAP7/RgD+/0YAhLJGALxBRgAA90QASPbFADyCxgAmu8YAlOXGAKz/xgAAAMcAAADHAMbnxgAswcYA/I7GAMAoxgCwJsUAULBFAPRVRgDQpEYAItdGAP7/RgD+/0YA/v9GAP7/RgD+/0YA/v9GAP7/RgD+/0YA/v9GAP7/RgD+/0YALPtGAFT6RgBG/UYA/v9GAP7/RgD+/0YA/v9GAP7/RgD+/0YA/v9GAProRgB6yEYA2p5GANxZRgCQ0EUAoJjEAKATxgAWisYAuMfGAAAAxwAAAMcAAADHAAAAxwAAAMcAAADHAAAAxwAAAMcAAADHAAAAxwAAAMcAnM3GADCXxgAYPcYA2JTFAJAbRQB0FEYANHxGADSuRgDG2UYA/v9GAP7/RgD+/0YA/v9GAP7/RgD+/0YA/v9GAP7/RgD+/0YA/v9GAP7/RgDi1kYAtqdGAJhnRgDo8UUAANBDACDZxQAEXcYA2qPGANbUxgAAAMcAAADHAAAAxwAAAMcAAADHAAAAxwAAAMcAAADHAAAAxwAAAMcAAADHAJrXxgD6qcYATHDGABQGxgAAu8QAILNFAFRKRgAinEYASNBGAP7/RgD+/0YA/v9GAP7/RgD+/0YA/v9GAP7/RgD+/0YA/v9GAP7/RgD+/0YA8MtGAHKSRgCYK0YA0EFFADCQxQDsOcYArJDGALi9xgAQ48YAAADHAAAAxwAAAMcAAADHAAAAxwAAAMcAAADHAAAAxwAAAMcAAADHAAAAxwDg/cYAIv7GAAAAxwAAAMcAAADHAAAAxwAAAMcAAADHAAAAxwAAAMcADPLGACDfxgDEx8YAuKzGAACPxgC8X8YAXCHGADjLxQBQPMU=",
          "dtype": "f4"
         },
         "yaxis": "y"
        },
        {
         "hovertemplate": "variable=Q<br>sample=%{x}<br>value=%{y}<extra></extra>",
         "legendgroup": "Q",
         "marker": {
          "color": "#EF553B",
          "symbol": "circle"
         },
         "mode": "markers",
         "name": "Q",
         "orientation": "v",
         "showlegend": true,
         "type": "scatter",
         "x": {
          "bdata": "AAABAAIAAwAEAAUABgAHAAgACQAKAAsADAANAA4ADwAQABEAEgATABQAFQAWABcAGAAZABoAGwAcAB0AHgAfACAAIQAiACMAJAAlACYAJwAoACkAKgArACwALQAuAC8AMAAxADIAMwA0ADUANgA3ADgAOQA6ADsAPAA9AD4APwBAAEEAQgBDAEQARQBGAEcASABJAEoASwBMAE0ATgBPAFAAUQBSAFMAVABVAFYAVwBYAFkAWgBbAFwAXQBeAF8AYABhAGIAYwBkAGUAZgBnAGgAaQBqAGsAbABtAG4AbwBwAHEAcgBzAHQAdQB2AHcAeAB5AHoAewB8AH0AfgB/AIAAgQCCAIMAhACFAIYAhwCIAIkAigCLAIwAjQCOAI8AkACRAJIAkwCUAJUAlgCXAJgAmQCaAJsAnACdAJ4AnwCgAKEAogCjAKQApQCmAKcAqACpAKoAqwCsAK0ArgCvALAAsQCyALMAtAC1ALYAtwC4ALkAugC7ALwAvQC+AL8AwADBAMIAwwDEAMUAxgDHAA==",
          "dtype": "i2"
         },
         "xaxis": "x",
         "y": {
          "bdata": "AAAAxwDw38YAwrPGAPB7xgAEA8YAAFzDAKj3RQA0dEYA7K9GABrdRgD+/0YA/v9GAP7/RgD+/0YA/v9GAP7/RgD+/0YA/v9GAP7/RgBc/0YA/v9GAP7/RgD+/0YA/v9GAP7/RgD+/0YA/v9GAP7/RgD+/0YA/v9GAP7/RgAs1EYA/J1GANA/RgCwaEUA4JrFAOROxgD8oMYAlM/GAA7wxgAAAMcAjv7GAEbrxgBox8YAIJXGAPguxgBgEcUAENtFAIx+RgCCw0YA/v9GAP7/RgD+/0YA/v9GAP7/RgD+/0YA/v9GAP7/RgD+/0YA/v9GAP7/RgBa10YA2qtGAOR7RgBUG0YAEFdFANBTxQCIJMYA8ovGAHTGxgAAAMcAAADHAAAAxwAAAMcAAADHAAAAxwAAAMcAAADHAAAAxwAAAMcAAADHAKytxgCcKMYAwFBEAPg5RgBIqUYAKuZGAP7/RgD+/0YA/v9GAP7/RgAGz0YATo1GABgBRgAQBsUAdD/GAJqlxgBq3MYAdP/GAAAAxwAAAMcAzt3GANanxgA4RsYAMC7FALjkRQCqgkYABsBGALTrRgD+/0YA/v9GAATnRgC+uEYAKHNGAGC9RQDweMUAMFXGABysxgCc3cYAhvrGAAAAxwAY7sYA5sXGAFCLxgCYB8YA4J9EAKQtRgCGm0YAttFGAFT0RgD+/0YABvRGACrRRgDSmkYAHCxGACCURADUCMYAxovGAC7GxgA27sYAAADHAEr6xgA83cYAsqvGAHBUxgDAdsUA+L1FADRzRgCuuEYA8uZGAP7/RgD+/0YALuxGANzARgDcg0YAsOpFACAhxQAMQ8YAjqbGAA7dxgAAAMcAAADHAAAAxwCs38YArqnGAJBIxgDQKsUAsPFFACaKRgBGzUYA/v9GAP7/RgD+/0YA/v9GAL7sRgBosEYA2EdGAKDIRADEH8YAWKvGAAAAxwAAAMcAAADHAAAAxwAAAMcAAADHAAAAxwAAAMcAAADHAAAAxwAAAMcA/snGANaWxgCQUsYAUAbGAMCVxQCQAsUAgNLDAACwQwAA0kM=",
          "dtype": "f4"
         },
         "yaxis": "y"
        },
        {
         "hovertemplate": "variable=IQ<br>sample=%{x}<br>value=%{y}<extra></extra>",
         "legendgroup": "IQ",
         "marker": {
          "color": "#00cc96",
          "symbol": "circle"
         },
         "mode": "markers",
         "name": "IQ",
         "orientation": "v",
         "showlegend": true,
         "type": "scatter",
         "x": {
          "bdata": "AAABAAIAAwAEAAUABgAHAAgACQAKAAsADAANAA4ADwAQABEAEgATABQAFQAWABcAGAAZABoAGwAcAB0AHgAfACAAIQAiACMAJAAlACYAJwAoACkAKgArACwALQAuAC8AMAAxADIAMwA0ADUANgA3ADgAOQA6ADsAPAA9AD4APwBAAEEAQgBDAEQARQBGAEcASABJAEoASwBMAE0ATgBPAFAAUQBSAFMAVABVAFYAVwBYAFkAWgBbAFwAXQBeAF8AYABhAGIAYwBkAGUAZgBnAGgAaQBqAGsAbABtAG4AbwBwAHEAcgBzAHQAdQB2AHcAeAB5AHoAewB8AH0AfgB/AIAAgQCCAIMAhACFAIYAhwCIAIkAigCLAIwAjQCOAI8AkACRAJIAkwCUAJUAlgCXAJgAmQCaAJsAnACdAJ4AnwCgAKEAogCjAKQApQCmAKcAqACpAKoAqwCsAK0ArgCvALAAsQCyALMAtAC1ALYAtwC4ALkAugC7ALwAvQC+AL8AwADBAMIAwwDEAMUAxgDHAA==",
          "dtype": "i2"
         },
         "xaxis": "x",
         "y": {
          "bdata": "AACAvwA4gEUAeBhGAAaCRgB8vkYARv5GAPQeRwAMPUcA9VdHAIxuRwD+f0cA/2VHAIRIRwDEKEcAEAhHALTPRgA8k0YAUDtGAODGRQBgCUUAAIC/AACAvwCgnkQA+JlFAIgjRgAIikYA4sxGAKgLRwDvMkcAY1pHAP5/RwAVakcA/U5HAPMvRwCKDkcARtlGAIyYRgAEPkYAqMFFAAD/RAAAgL8AFBjGAGiKxgD4t8YAstLGALjZxgBSzcYA0K7GAGaAxgD48cUAAIC/AMBBRQBI+0UABGJGAJ6rRgAo60YACRZHAHw1RwBnUkcAkGtHAP5/RwCsa0cA7FVHAPg+RwDUJkcAcA1HAITlRgC6rUYAGGhGACjmRQAAgL8AgBrEAIA1xACArsMAAIC/AACAvwAAgL8AAIC/AACAvwAAgL8AAIC/ADjtRQBYaEYAYKVGAOrJRgBs3UYAoNxGAC62RgDQa0YAGOFFAACAvwDow8UAZGXGAHS/xgBhCMcA3S/HAM1SxwA1bscAun/HAACAxwAAgMcAtVXHAIMfxwCowcYA8OvFAEAZRgDkzEYAEB9HAPRMRwDibEcA/n9HAIFzRwBeXEcAyTxHAKsXRwDg4EYAZpVGAMQnRgCIiUUAAC9EAACAvwCwOcUAgHHFACA8xQBAasQA4NNEACiCRQAQtEUAcLdFAPB7RQAAgL8AoL/EAFi7xQBcSsYA8qnGAL72xgA1IscA40XHABdjxwAbd8cAAIDHAPJoxwCbQ8cA7BHHAEKtxgAgqsUAjDhGAMTeRgBoKkcAnVtHAP5/RwD+f0cAFnZHAG1gRwDtQUcAVR1HANrrRgB4nkYA4DJGAMCLRQAAgL8AQNDFABxbxgDgicYAdJHGAFSIxgCgZMYAgCjGAEjOxQBQLsUAAIC/AACAvwAAgL8AAIC/ABAaxQAwH8YAFJzGAHbzxgDxJ8cArFXHAACAxwDwfscAEX/HAACAxwAAgMcAAIDHAACAxwAAgMcAAIDHAACAxwAAgMcABV7HAPs6xwCGGMcA4O/GAHC0xgAwgMYA8CfGADjAxQAQIsU=",
          "dtype": "f4"
         },
         "yaxis": "y"
        }
       ],
       "layout": {
        "legend": {
         "title": {
          "text": "variable"
         },
         "tracegroupgap": 0
        },
        "margin": {
         "t": 60
        },
        "template": {
         "data": {
          "bar": [
           {
            "error_x": {
             "color": "#2a3f5f"
            },
            "error_y": {
             "color": "#2a3f5f"
            },
            "marker": {
             "line": {
              "color": "#E5ECF6",
              "width": 0.5
             },
             "pattern": {
              "fillmode": "overlay",
              "size": 10,
              "solidity": 0.2
             }
            },
            "type": "bar"
           }
          ],
          "barpolar": [
           {
            "marker": {
             "line": {
              "color": "#E5ECF6",
              "width": 0.5
             },
             "pattern": {
              "fillmode": "overlay",
              "size": 10,
              "solidity": 0.2
             }
            },
            "type": "barpolar"
           }
          ],
          "carpet": [
           {
            "aaxis": {
             "endlinecolor": "#2a3f5f",
             "gridcolor": "white",
             "linecolor": "white",
             "minorgridcolor": "white",
             "startlinecolor": "#2a3f5f"
            },
            "baxis": {
             "endlinecolor": "#2a3f5f",
             "gridcolor": "white",
             "linecolor": "white",
             "minorgridcolor": "white",
             "startlinecolor": "#2a3f5f"
            },
            "type": "carpet"
           }
          ],
          "choropleth": [
           {
            "colorbar": {
             "outlinewidth": 0,
             "ticks": ""
            },
            "type": "choropleth"
           }
          ],
          "contour": [
           {
            "colorbar": {
             "outlinewidth": 0,
             "ticks": ""
            },
            "colorscale": [
             [
              0,
              "#0d0887"
             ],
             [
              0.1111111111111111,
              "#46039f"
             ],
             [
              0.2222222222222222,
              "#7201a8"
             ],
             [
              0.3333333333333333,
              "#9c179e"
             ],
             [
              0.4444444444444444,
              "#bd3786"
             ],
             [
              0.5555555555555556,
              "#d8576b"
             ],
             [
              0.6666666666666666,
              "#ed7953"
             ],
             [
              0.7777777777777778,
              "#fb9f3a"
             ],
             [
              0.8888888888888888,
              "#fdca26"
             ],
             [
              1,
              "#f0f921"
             ]
            ],
            "type": "contour"
           }
          ],
          "contourcarpet": [
           {
            "colorbar": {
             "outlinewidth": 0,
             "ticks": ""
            },
            "type": "contourcarpet"
           }
          ],
          "heatmap": [
           {
            "colorbar": {
             "outlinewidth": 0,
             "ticks": ""
            },
            "colorscale": [
             [
              0,
              "#0d0887"
             ],
             [
              0.1111111111111111,
              "#46039f"
             ],
             [
              0.2222222222222222,
              "#7201a8"
             ],
             [
              0.3333333333333333,
              "#9c179e"
             ],
             [
              0.4444444444444444,
              "#bd3786"
             ],
             [
              0.5555555555555556,
              "#d8576b"
             ],
             [
              0.6666666666666666,
              "#ed7953"
             ],
             [
              0.7777777777777778,
              "#fb9f3a"
             ],
             [
              0.8888888888888888,
              "#fdca26"
             ],
             [
              1,
              "#f0f921"
             ]
            ],
            "type": "heatmap"
           }
          ],
          "histogram": [
           {
            "marker": {
             "pattern": {
              "fillmode": "overlay",
              "size": 10,
              "solidity": 0.2
             }
            },
            "type": "histogram"
           }
          ],
          "histogram2d": [
           {
            "colorbar": {
             "outlinewidth": 0,
             "ticks": ""
            },
            "colorscale": [
             [
              0,
              "#0d0887"
             ],
             [
              0.1111111111111111,
              "#46039f"
             ],
             [
              0.2222222222222222,
              "#7201a8"
             ],
             [
              0.3333333333333333,
              "#9c179e"
             ],
             [
              0.4444444444444444,
              "#bd3786"
             ],
             [
              0.5555555555555556,
              "#d8576b"
             ],
             [
              0.6666666666666666,
              "#ed7953"
             ],
             [
              0.7777777777777778,
              "#fb9f3a"
             ],
             [
              0.8888888888888888,
              "#fdca26"
             ],
             [
              1,
              "#f0f921"
             ]
            ],
            "type": "histogram2d"
           }
          ],
          "histogram2dcontour": [
           {
            "colorbar": {
             "outlinewidth": 0,
             "ticks": ""
            },
            "colorscale": [
             [
              0,
              "#0d0887"
             ],
             [
              0.1111111111111111,
              "#46039f"
             ],
             [
              0.2222222222222222,
              "#7201a8"
             ],
             [
              0.3333333333333333,
              "#9c179e"
             ],
             [
              0.4444444444444444,
              "#bd3786"
             ],
             [
              0.5555555555555556,
              "#d8576b"
             ],
             [
              0.6666666666666666,
              "#ed7953"
             ],
             [
              0.7777777777777778,
              "#fb9f3a"
             ],
             [
              0.8888888888888888,
              "#fdca26"
             ],
             [
              1,
              "#f0f921"
             ]
            ],
            "type": "histogram2dcontour"
           }
          ],
          "mesh3d": [
           {
            "colorbar": {
             "outlinewidth": 0,
             "ticks": ""
            },
            "type": "mesh3d"
           }
          ],
          "parcoords": [
           {
            "line": {
             "colorbar": {
              "outlinewidth": 0,
              "ticks": ""
             }
            },
            "type": "parcoords"
           }
          ],
          "pie": [
           {
            "automargin": true,
            "type": "pie"
           }
          ],
          "scatter": [
           {
            "fillpattern": {
             "fillmode": "overlay",
             "size": 10,
             "solidity": 0.2
            },
            "type": "scatter"
           }
          ],
          "scatter3d": [
           {
            "line": {
             "colorbar": {
              "outlinewidth": 0,
              "ticks": ""
             }
            },
            "marker": {
             "colorbar": {
              "outlinewidth": 0,
              "ticks": ""
             }
            },
            "type": "scatter3d"
           }
          ],
          "scattercarpet": [
           {
            "marker": {
             "colorbar": {
              "outlinewidth": 0,
              "ticks": ""
             }
            },
            "type": "scattercarpet"
           }
          ],
          "scattergeo": [
           {
            "marker": {
             "colorbar": {
              "outlinewidth": 0,
              "ticks": ""
             }
            },
            "type": "scattergeo"
           }
          ],
          "scattergl": [
           {
            "marker": {
             "colorbar": {
              "outlinewidth": 0,
              "ticks": ""
             }
            },
            "type": "scattergl"
           }
          ],
          "scattermap": [
           {
            "marker": {
             "colorbar": {
              "outlinewidth": 0,
              "ticks": ""
             }
            },
            "type": "scattermap"
           }
          ],
          "scattermapbox": [
           {
            "marker": {
             "colorbar": {
              "outlinewidth": 0,
              "ticks": ""
             }
            },
            "type": "scattermapbox"
           }
          ],
          "scatterpolar": [
           {
            "marker": {
             "colorbar": {
              "outlinewidth": 0,
              "ticks": ""
             }
            },
            "type": "scatterpolar"
           }
          ],
          "scatterpolargl": [
           {
            "marker": {
             "colorbar": {
              "outlinewidth": 0,
              "ticks": ""
             }
            },
            "type": "scatterpolargl"
           }
          ],
          "scatterternary": [
           {
            "marker": {
             "colorbar": {
              "outlinewidth": 0,
              "ticks": ""
             }
            },
            "type": "scatterternary"
           }
          ],
          "surface": [
           {
            "colorbar": {
             "outlinewidth": 0,
             "ticks": ""
            },
            "colorscale": [
             [
              0,
              "#0d0887"
             ],
             [
              0.1111111111111111,
              "#46039f"
             ],
             [
              0.2222222222222222,
              "#7201a8"
             ],
             [
              0.3333333333333333,
              "#9c179e"
             ],
             [
              0.4444444444444444,
              "#bd3786"
             ],
             [
              0.5555555555555556,
              "#d8576b"
             ],
             [
              0.6666666666666666,
              "#ed7953"
             ],
             [
              0.7777777777777778,
              "#fb9f3a"
             ],
             [
              0.8888888888888888,
              "#fdca26"
             ],
             [
              1,
              "#f0f921"
             ]
            ],
            "type": "surface"
           }
          ],
          "table": [
           {
            "cells": {
             "fill": {
              "color": "#EBF0F8"
             },
             "line": {
              "color": "white"
             }
            },
            "header": {
             "fill": {
              "color": "#C8D4E3"
             },
             "line": {
              "color": "white"
             }
            },
            "type": "table"
           }
          ]
         },
         "layout": {
          "annotationdefaults": {
           "arrowcolor": "#2a3f5f",
           "arrowhead": 0,
           "arrowwidth": 1
          },
          "autotypenumbers": "strict",
          "coloraxis": {
           "colorbar": {
            "outlinewidth": 0,
            "ticks": ""
           }
          },
          "colorscale": {
           "diverging": [
            [
             0,
             "#8e0152"
            ],
            [
             0.1,
             "#c51b7d"
            ],
            [
             0.2,
             "#de77ae"
            ],
            [
             0.3,
             "#f1b6da"
            ],
            [
             0.4,
             "#fde0ef"
            ],
            [
             0.5,
             "#f7f7f7"
            ],
            [
             0.6,
             "#e6f5d0"
            ],
            [
             0.7,
             "#b8e186"
            ],
            [
             0.8,
             "#7fbc41"
            ],
            [
             0.9,
             "#4d9221"
            ],
            [
             1,
             "#276419"
            ]
           ],
           "sequential": [
            [
             0,
             "#0d0887"
            ],
            [
             0.1111111111111111,
             "#46039f"
            ],
            [
             0.2222222222222222,
             "#7201a8"
            ],
            [
             0.3333333333333333,
             "#9c179e"
            ],
            [
             0.4444444444444444,
             "#bd3786"
            ],
            [
             0.5555555555555556,
             "#d8576b"
            ],
            [
             0.6666666666666666,
             "#ed7953"
            ],
            [
             0.7777777777777778,
             "#fb9f3a"
            ],
            [
             0.8888888888888888,
             "#fdca26"
            ],
            [
             1,
             "#f0f921"
            ]
           ],
           "sequentialminus": [
            [
             0,
             "#0d0887"
            ],
            [
             0.1111111111111111,
             "#46039f"
            ],
            [
             0.2222222222222222,
             "#7201a8"
            ],
            [
             0.3333333333333333,
             "#9c179e"
            ],
            [
             0.4444444444444444,
             "#bd3786"
            ],
            [
             0.5555555555555556,
             "#d8576b"
            ],
            [
             0.6666666666666666,
             "#ed7953"
            ],
            [
             0.7777777777777778,
             "#fb9f3a"
            ],
            [
             0.8888888888888888,
             "#fdca26"
            ],
            [
             1,
             "#f0f921"
            ]
           ]
          },
          "colorway": [
           "#636efa",
           "#EF553B",
           "#00cc96",
           "#ab63fa",
           "#FFA15A",
           "#19d3f3",
           "#FF6692",
           "#B6E880",
           "#FF97FF",
           "#FECB52"
          ],
          "font": {
           "color": "#2a3f5f"
          },
          "geo": {
           "bgcolor": "white",
           "lakecolor": "white",
           "landcolor": "#E5ECF6",
           "showlakes": true,
           "showland": true,
           "subunitcolor": "white"
          },
          "hoverlabel": {
           "align": "left"
          },
          "hovermode": "closest",
          "mapbox": {
           "style": "light"
          },
          "paper_bgcolor": "white",
          "plot_bgcolor": "#E5ECF6",
          "polar": {
           "angularaxis": {
            "gridcolor": "white",
            "linecolor": "white",
            "ticks": ""
           },
           "bgcolor": "#E5ECF6",
           "radialaxis": {
            "gridcolor": "white",
            "linecolor": "white",
            "ticks": ""
           }
          },
          "scene": {
           "xaxis": {
            "backgroundcolor": "#E5ECF6",
            "gridcolor": "white",
            "gridwidth": 2,
            "linecolor": "white",
            "showbackground": true,
            "ticks": "",
            "zerolinecolor": "white"
           },
           "yaxis": {
            "backgroundcolor": "#E5ECF6",
            "gridcolor": "white",
            "gridwidth": 2,
            "linecolor": "white",
            "showbackground": true,
            "ticks": "",
            "zerolinecolor": "white"
           },
           "zaxis": {
            "backgroundcolor": "#E5ECF6",
            "gridcolor": "white",
            "gridwidth": 2,
            "linecolor": "white",
            "showbackground": true,
            "ticks": "",
            "zerolinecolor": "white"
           }
          },
          "shapedefaults": {
           "line": {
            "color": "#2a3f5f"
           }
          },
          "ternary": {
           "aaxis": {
            "gridcolor": "white",
            "linecolor": "white",
            "ticks": ""
           },
           "baxis": {
            "gridcolor": "white",
            "linecolor": "white",
            "ticks": ""
           },
           "bgcolor": "#E5ECF6",
           "caxis": {
            "gridcolor": "white",
            "linecolor": "white",
            "ticks": ""
           }
          },
          "title": {
           "x": 0.05
          },
          "xaxis": {
           "automargin": true,
           "gridcolor": "white",
           "linecolor": "white",
           "ticks": "",
           "title": {
            "standoff": 15
           },
           "zerolinecolor": "white",
           "zerolinewidth": 2
          },
          "yaxis": {
           "automargin": true,
           "gridcolor": "white",
           "linecolor": "white",
           "ticks": "",
           "title": {
            "standoff": 15
           },
           "zerolinecolor": "white",
           "zerolinewidth": 2
          }
         }
        },
        "xaxis": {
         "anchor": "y",
         "domain": [
          0,
          1
         ],
         "title": {
          "text": "sample"
         }
        },
        "yaxis": {
         "anchor": "x",
         "domain": [
          0,
          1
         ],
         "title": {
          "text": "value"
         }
        }
       }
      }
     },
     "metadata": {},
     "output_type": "display_data"
    }
   ],
   "source": [
    "plot = px.line(df[:20000], y=[\"I\", \"Q\", \"IQ\"], x=\"sample\")\n",
    "plot.show()"
   ]
  },
  {
   "cell_type": "code",
   "execution_count": null,
   "metadata": {},
   "outputs": [],
   "source": []
  }
 ],
 "metadata": {
  "kernelspec": {
   "display_name": ".venv",
   "language": "python",
   "name": "python3"
  },
  "language_info": {
   "codemirror_mode": {
    "name": "ipython",
    "version": 3
   },
   "file_extension": ".py",
   "mimetype": "text/x-python",
   "name": "python",
   "nbconvert_exporter": "python",
   "pygments_lexer": "ipython3",
   "version": "3.11.11"
  }
 },
 "nbformat": 4,
 "nbformat_minor": 2
}
